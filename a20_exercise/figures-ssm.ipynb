{
 "cells": [
  {
   "cell_type": "code",
   "execution_count": null,
   "metadata": {
    "vscode": {
     "languageId": "plaintext"
    }
   },
   "outputs": [],
   "source": [
    "#imports\n",
    "\n",
    "#load xml into pandas\n",
    "\n",
    "#query xml for relevant colums (TTC, (collision type?))\n",
    "\n",
    "#plot nicely, ideally with distribution by vehicle class\n",
    "\n"
   ]
  }
 ],
 "metadata": {
  "language_info": {
   "name": "python"
  }
 },
 "nbformat": 4,
 "nbformat_minor": 2
}
